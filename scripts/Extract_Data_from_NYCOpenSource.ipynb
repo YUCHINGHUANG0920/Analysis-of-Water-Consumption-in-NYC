{
  "nbformat": 4,
  "nbformat_minor": 0,
  "metadata": {
    "colab": {
      "provenance": []
    },
    "kernelspec": {
      "name": "python3",
      "display_name": "Python 3"
    },
    "language_info": {
      "name": "python"
    }
  },
  "cells": [
    {
      "cell_type": "markdown",
      "source": [
        "# Extract the Dataset from the Source - NYC Open Data"
      ],
      "metadata": {
        "id": "5i0mzUneJqiy"
      }
    },
    {
      "cell_type": "markdown",
      "source": [
        "### Install Libraries & Import Libraries"
      ],
      "metadata": {
        "id": "yQ9ATci2JNm0"
      }
    },
    {
      "cell_type": "code",
      "source": [
        "!pip install azure-storage-blob # Microoft Azure\n",
        "!pip install pyarrow\n",
        "!pip install psycopg2 sqlalchemy"
      ],
      "metadata": {
        "id": "CgsavBdZP6fZ",
        "colab": {
          "base_uri": "https://localhost:8080/"
        },
        "outputId": "260fbddc-4617-40d9-9c31-9c88a21602f9"
      },
      "execution_count": 1,
      "outputs": [
        {
          "output_type": "stream",
          "name": "stdout",
          "text": [
            "Collecting azure-storage-blob\n",
            "  Downloading azure_storage_blob-12.19.1-py3-none-any.whl (394 kB)\n",
            "\u001b[2K     \u001b[90m━━━━━━━━━━━━━━━━━━━━━━━━━━━━━━━━━━━━━━━━\u001b[0m \u001b[32m394.5/394.5 kB\u001b[0m \u001b[31m6.7 MB/s\u001b[0m eta \u001b[36m0:00:00\u001b[0m\n",
            "\u001b[?25hCollecting azure-core<2.0.0,>=1.28.0 (from azure-storage-blob)\n",
            "  Downloading azure_core-1.30.1-py3-none-any.whl (193 kB)\n",
            "\u001b[2K     \u001b[90m━━━━━━━━━━━━━━━━━━━━━━━━━━━━━━━━━━━━━━━━\u001b[0m \u001b[32m193.4/193.4 kB\u001b[0m \u001b[31m8.9 MB/s\u001b[0m eta \u001b[36m0:00:00\u001b[0m\n",
            "\u001b[?25hRequirement already satisfied: cryptography>=2.1.4 in /usr/local/lib/python3.10/dist-packages (from azure-storage-blob) (42.0.5)\n",
            "Requirement already satisfied: typing-extensions>=4.3.0 in /usr/local/lib/python3.10/dist-packages (from azure-storage-blob) (4.11.0)\n",
            "Collecting isodate>=0.6.1 (from azure-storage-blob)\n",
            "  Downloading isodate-0.6.1-py2.py3-none-any.whl (41 kB)\n",
            "\u001b[2K     \u001b[90m━━━━━━━━━━━━━━━━━━━━━━━━━━━━━━━━━━━━━━━━\u001b[0m \u001b[32m41.7/41.7 kB\u001b[0m \u001b[31m5.2 MB/s\u001b[0m eta \u001b[36m0:00:00\u001b[0m\n",
            "\u001b[?25hRequirement already satisfied: requests>=2.21.0 in /usr/local/lib/python3.10/dist-packages (from azure-core<2.0.0,>=1.28.0->azure-storage-blob) (2.31.0)\n",
            "Requirement already satisfied: six>=1.11.0 in /usr/local/lib/python3.10/dist-packages (from azure-core<2.0.0,>=1.28.0->azure-storage-blob) (1.16.0)\n",
            "Requirement already satisfied: cffi>=1.12 in /usr/local/lib/python3.10/dist-packages (from cryptography>=2.1.4->azure-storage-blob) (1.16.0)\n",
            "Requirement already satisfied: pycparser in /usr/local/lib/python3.10/dist-packages (from cffi>=1.12->cryptography>=2.1.4->azure-storage-blob) (2.22)\n",
            "Requirement already satisfied: charset-normalizer<4,>=2 in /usr/local/lib/python3.10/dist-packages (from requests>=2.21.0->azure-core<2.0.0,>=1.28.0->azure-storage-blob) (3.3.2)\n",
            "Requirement already satisfied: idna<4,>=2.5 in /usr/local/lib/python3.10/dist-packages (from requests>=2.21.0->azure-core<2.0.0,>=1.28.0->azure-storage-blob) (3.7)\n",
            "Requirement already satisfied: urllib3<3,>=1.21.1 in /usr/local/lib/python3.10/dist-packages (from requests>=2.21.0->azure-core<2.0.0,>=1.28.0->azure-storage-blob) (2.0.7)\n",
            "Requirement already satisfied: certifi>=2017.4.17 in /usr/local/lib/python3.10/dist-packages (from requests>=2.21.0->azure-core<2.0.0,>=1.28.0->azure-storage-blob) (2024.2.2)\n",
            "Installing collected packages: isodate, azure-core, azure-storage-blob\n",
            "Successfully installed azure-core-1.30.1 azure-storage-blob-12.19.1 isodate-0.6.1\n",
            "Requirement already satisfied: pyarrow in /usr/local/lib/python3.10/dist-packages (14.0.2)\n",
            "Requirement already satisfied: numpy>=1.16.6 in /usr/local/lib/python3.10/dist-packages (from pyarrow) (1.25.2)\n",
            "Requirement already satisfied: psycopg2 in /usr/local/lib/python3.10/dist-packages (2.9.9)\n",
            "Requirement already satisfied: sqlalchemy in /usr/local/lib/python3.10/dist-packages (2.0.29)\n",
            "Requirement already satisfied: typing-extensions>=4.6.0 in /usr/local/lib/python3.10/dist-packages (from sqlalchemy) (4.11.0)\n",
            "Requirement already satisfied: greenlet!=0.4.17 in /usr/local/lib/python3.10/dist-packages (from sqlalchemy) (3.0.3)\n"
          ]
        }
      ]
    },
    {
      "cell_type": "code",
      "execution_count": 2,
      "metadata": {
        "id": "Uhx0oZu9jrVv"
      },
      "outputs": [],
      "source": [
        "import pandas as pd\n",
        "import numpy as np\n",
        "import json\n",
        "import requests\n",
        "from io import StringIO\n",
        "from azure.storage.blob import BlobServiceClient, BlobClient, ContainerClient\n",
        "from math import ceil\n",
        "import datetime\n",
        "import calendar\n",
        "from sqlalchemy import create_engine"
      ]
    },
    {
      "cell_type": "code",
      "source": [
        "# Azure Functions\n",
        "def azure_upload_blob(connect_str, container_name, blob_name, data):\n",
        "    blob_service_client = BlobServiceClient.from_connection_string(connect_str)\n",
        "    blob_client = blob_service_client.get_blob_client(container=container_name, blob=blob_name)\n",
        "    blob_client.upload_blob(data, overwrite=True)\n",
        "    print(f\"Uploaded to Azure Blob: {blob_name}\")\n",
        "\n",
        "def azure_download_blob(connect_str, container_name, blob_name):\n",
        "    blob_service_client = BlobServiceClient.from_connection_string(connect_str)\n",
        "    blob_client = blob_service_client.get_blob_client(container=container_name, blob=blob_name)\n",
        "    download_stream = blob_client.download_blob()\n",
        "    blob_content = download_stream.readall().decode('utf-8')\n",
        "    return blob_content"
      ],
      "metadata": {
        "id": "YtkL7QQqP3-r"
      },
      "execution_count": 3,
      "outputs": []
    },
    {
      "cell_type": "code",
      "source": [],
      "metadata": {
        "id": "bja8hZCKHrMI"
      },
      "execution_count": null,
      "outputs": []
    },
    {
      "cell_type": "markdown",
      "source": [
        "### Information Architecture\n",
        "Source 1 --> Gather Data --> Convert to DataFrame --> Clean Data (delete columns with less than 60% of the data count) --> Upload to Cloud (Azure)\n",
        "\n",
        "Download (Extract) from Azure --> Reformat Data --> Transform Data (create Dimension tables and Fact table) --> Load to Data Warehouse"
      ],
      "metadata": {
        "id": "fbk52i3HKViP"
      }
    },
    {
      "cell_type": "code",
      "source": [],
      "metadata": {
        "id": "EzxFR1Xq9VJR"
      },
      "execution_count": null,
      "outputs": []
    },
    {
      "cell_type": "markdown",
      "source": [
        "### Download Raw Data from NYC Open Source"
      ],
      "metadata": {
        "id": "6XHI7ZeV9qZ8"
      }
    },
    {
      "cell_type": "code",
      "source": [
        "offset = 0\n",
        "limit = 1000"
      ],
      "metadata": {
        "id": "vMgcQF7nuNpf"
      },
      "execution_count": 4,
      "outputs": []
    },
    {
      "cell_type": "code",
      "source": [
        "all_raw_data = pd.DataFrame()\n",
        "\n",
        "while True:\n",
        "    url = f'https://data.cityofnewyork.us/resource/66be-66yr.json?$limit={limit}&$offset={offset}'\n",
        "    df_chunk = pd.read_json(url)\n",
        "    all_raw_data = pd.concat([all_raw_data, df_chunk], ignore_index=True)\n",
        "\n",
        "    if len(df_chunk) < limit:\n",
        "        break\n",
        "\n",
        "    offset += limit"
      ],
      "metadata": {
        "id": "wSyqTfkNuNsT"
      },
      "execution_count": 5,
      "outputs": []
    },
    {
      "cell_type": "code",
      "source": [
        "print(all_raw_data.shape)"
      ],
      "metadata": {
        "colab": {
          "base_uri": "https://localhost:8080/"
        },
        "id": "W91-1-JiuNvB",
        "outputId": "49176e56-70e2-4f91-f710-e7997a20ed97"
      },
      "execution_count": 6,
      "outputs": [
        {
          "output_type": "stream",
          "name": "stdout",
          "text": [
            "(50315, 25)\n"
          ]
        }
      ]
    },
    {
      "cell_type": "code",
      "source": [
        "all_raw_data.head()"
      ],
      "metadata": {
        "colab": {
          "base_uri": "https://localhost:8080/",
          "height": 464
        },
        "id": "w8nrj8E9uNxq",
        "outputId": "a921faca-cd15-47c6-a24f-2f9e5d8ed3ec"
      },
      "execution_count": 7,
      "outputs": [
        {
          "output_type": "execute_result",
          "data": {
            "text/plain": [
              "                    development_name   borough  \\\n",
              "0   FHA REPOSSESSED HOUSES (GROUP V)       FHA   \n",
              "1                         VAN DYKE I  BROOKLYN   \n",
              "2  FHA REPOSSESSED HOUSES (GROUP II)       FHA   \n",
              "3                   SOUTH JAMAICA II    QUEENS   \n",
              "4   FHA REPOSSESSED HOUSES (GROUP X)       FHA   \n",
              "\n",
              "                        account_name                   location meter_amr  \\\n",
              "0   FHA REPOSSESSED HOUSES (GROUP V)        117-11 192ND STREET      NONE   \n",
              "1                         VAN DYKE I  BLD 24 - Community Center       AMR   \n",
              "2  FHA REPOSSESSED HOUSES (GROUP II)        171-28 111TH AVENUE       AMR   \n",
              "3                   SOUTH JAMAICA II                     BLD 15       AMR   \n",
              "4   FHA REPOSSESSED HOUSES (GROUP X)                        NaN       NaN   \n",
              "\n",
              "   tds  edp  rc_code funding_source           amp  ...  days  meter_number  \\\n",
              "0  260  325  Q026000        FEDERAL  NY005012090P  ...  30.0     V52311732   \n",
              "1   61  325  K006100        FEDERAL  NY005000610P  ...  29.0     V84003679   \n",
              "2  212  325  Q021200        FEDERAL  NY005012090P  ...  30.0     K15842657   \n",
              "3   66  325  Q006600        FEDERAL  NY005010080P  ...  30.0    E132272916   \n",
              "4  284  325  Q028400        FEDERAL           NaN  ...  29.0     K96779329   \n",
              "\n",
              "  estimated current_charges             rate_class  bill_analyzed  \\\n",
              "0         N           38.07  Basic Water and Sewer            Yes   \n",
              "1         Y          111.37  Basic Water and Sewer            Yes   \n",
              "2         N           38.07  Basic Water and Sewer            Yes   \n",
              "3         N         2962.44  Basic Water and Sewer            Yes   \n",
              "4         Y          256.15                    NaN            Yes   \n",
              "\n",
              "  consumption_hcf water_sewer_charges  other_charges       meter_scope  \n",
              "0             204                0.00          38.07               NaN  \n",
              "1             204              111.37           0.00  Community Center  \n",
              "2             204               38.07           0.00               NaN  \n",
              "3             204             2962.44           0.00            BLD 15  \n",
              "4             204              256.15           0.00               NaN  \n",
              "\n",
              "[5 rows x 25 columns]"
            ],
            "text/html": [
              "\n",
              "  <div id=\"df-0ae54635-48f0-41ef-a85b-5f3437fe7611\" class=\"colab-df-container\">\n",
              "    <div>\n",
              "<style scoped>\n",
              "    .dataframe tbody tr th:only-of-type {\n",
              "        vertical-align: middle;\n",
              "    }\n",
              "\n",
              "    .dataframe tbody tr th {\n",
              "        vertical-align: top;\n",
              "    }\n",
              "\n",
              "    .dataframe thead th {\n",
              "        text-align: right;\n",
              "    }\n",
              "</style>\n",
              "<table border=\"1\" class=\"dataframe\">\n",
              "  <thead>\n",
              "    <tr style=\"text-align: right;\">\n",
              "      <th></th>\n",
              "      <th>development_name</th>\n",
              "      <th>borough</th>\n",
              "      <th>account_name</th>\n",
              "      <th>location</th>\n",
              "      <th>meter_amr</th>\n",
              "      <th>tds</th>\n",
              "      <th>edp</th>\n",
              "      <th>rc_code</th>\n",
              "      <th>funding_source</th>\n",
              "      <th>amp</th>\n",
              "      <th>...</th>\n",
              "      <th>days</th>\n",
              "      <th>meter_number</th>\n",
              "      <th>estimated</th>\n",
              "      <th>current_charges</th>\n",
              "      <th>rate_class</th>\n",
              "      <th>bill_analyzed</th>\n",
              "      <th>consumption_hcf</th>\n",
              "      <th>water_sewer_charges</th>\n",
              "      <th>other_charges</th>\n",
              "      <th>meter_scope</th>\n",
              "    </tr>\n",
              "  </thead>\n",
              "  <tbody>\n",
              "    <tr>\n",
              "      <th>0</th>\n",
              "      <td>FHA REPOSSESSED HOUSES (GROUP V)</td>\n",
              "      <td>FHA</td>\n",
              "      <td>FHA REPOSSESSED HOUSES (GROUP V)</td>\n",
              "      <td>117-11 192ND STREET</td>\n",
              "      <td>NONE</td>\n",
              "      <td>260</td>\n",
              "      <td>325</td>\n",
              "      <td>Q026000</td>\n",
              "      <td>FEDERAL</td>\n",
              "      <td>NY005012090P</td>\n",
              "      <td>...</td>\n",
              "      <td>30.0</td>\n",
              "      <td>V52311732</td>\n",
              "      <td>N</td>\n",
              "      <td>38.07</td>\n",
              "      <td>Basic Water and Sewer</td>\n",
              "      <td>Yes</td>\n",
              "      <td>204</td>\n",
              "      <td>0.00</td>\n",
              "      <td>38.07</td>\n",
              "      <td>NaN</td>\n",
              "    </tr>\n",
              "    <tr>\n",
              "      <th>1</th>\n",
              "      <td>VAN DYKE I</td>\n",
              "      <td>BROOKLYN</td>\n",
              "      <td>VAN DYKE I</td>\n",
              "      <td>BLD 24 - Community Center</td>\n",
              "      <td>AMR</td>\n",
              "      <td>61</td>\n",
              "      <td>325</td>\n",
              "      <td>K006100</td>\n",
              "      <td>FEDERAL</td>\n",
              "      <td>NY005000610P</td>\n",
              "      <td>...</td>\n",
              "      <td>29.0</td>\n",
              "      <td>V84003679</td>\n",
              "      <td>Y</td>\n",
              "      <td>111.37</td>\n",
              "      <td>Basic Water and Sewer</td>\n",
              "      <td>Yes</td>\n",
              "      <td>204</td>\n",
              "      <td>111.37</td>\n",
              "      <td>0.00</td>\n",
              "      <td>Community Center</td>\n",
              "    </tr>\n",
              "    <tr>\n",
              "      <th>2</th>\n",
              "      <td>FHA REPOSSESSED HOUSES (GROUP II)</td>\n",
              "      <td>FHA</td>\n",
              "      <td>FHA REPOSSESSED HOUSES (GROUP II)</td>\n",
              "      <td>171-28 111TH AVENUE</td>\n",
              "      <td>AMR</td>\n",
              "      <td>212</td>\n",
              "      <td>325</td>\n",
              "      <td>Q021200</td>\n",
              "      <td>FEDERAL</td>\n",
              "      <td>NY005012090P</td>\n",
              "      <td>...</td>\n",
              "      <td>30.0</td>\n",
              "      <td>K15842657</td>\n",
              "      <td>N</td>\n",
              "      <td>38.07</td>\n",
              "      <td>Basic Water and Sewer</td>\n",
              "      <td>Yes</td>\n",
              "      <td>204</td>\n",
              "      <td>38.07</td>\n",
              "      <td>0.00</td>\n",
              "      <td>NaN</td>\n",
              "    </tr>\n",
              "    <tr>\n",
              "      <th>3</th>\n",
              "      <td>SOUTH JAMAICA II</td>\n",
              "      <td>QUEENS</td>\n",
              "      <td>SOUTH JAMAICA II</td>\n",
              "      <td>BLD 15</td>\n",
              "      <td>AMR</td>\n",
              "      <td>66</td>\n",
              "      <td>325</td>\n",
              "      <td>Q006600</td>\n",
              "      <td>FEDERAL</td>\n",
              "      <td>NY005010080P</td>\n",
              "      <td>...</td>\n",
              "      <td>30.0</td>\n",
              "      <td>E132272916</td>\n",
              "      <td>N</td>\n",
              "      <td>2962.44</td>\n",
              "      <td>Basic Water and Sewer</td>\n",
              "      <td>Yes</td>\n",
              "      <td>204</td>\n",
              "      <td>2962.44</td>\n",
              "      <td>0.00</td>\n",
              "      <td>BLD 15</td>\n",
              "    </tr>\n",
              "    <tr>\n",
              "      <th>4</th>\n",
              "      <td>FHA REPOSSESSED HOUSES (GROUP X)</td>\n",
              "      <td>FHA</td>\n",
              "      <td>FHA REPOSSESSED HOUSES (GROUP X)</td>\n",
              "      <td>NaN</td>\n",
              "      <td>NaN</td>\n",
              "      <td>284</td>\n",
              "      <td>325</td>\n",
              "      <td>Q028400</td>\n",
              "      <td>FEDERAL</td>\n",
              "      <td>NaN</td>\n",
              "      <td>...</td>\n",
              "      <td>29.0</td>\n",
              "      <td>K96779329</td>\n",
              "      <td>Y</td>\n",
              "      <td>256.15</td>\n",
              "      <td>NaN</td>\n",
              "      <td>Yes</td>\n",
              "      <td>204</td>\n",
              "      <td>256.15</td>\n",
              "      <td>0.00</td>\n",
              "      <td>NaN</td>\n",
              "    </tr>\n",
              "  </tbody>\n",
              "</table>\n",
              "<p>5 rows × 25 columns</p>\n",
              "</div>\n",
              "    <div class=\"colab-df-buttons\">\n",
              "\n",
              "  <div class=\"colab-df-container\">\n",
              "    <button class=\"colab-df-convert\" onclick=\"convertToInteractive('df-0ae54635-48f0-41ef-a85b-5f3437fe7611')\"\n",
              "            title=\"Convert this dataframe to an interactive table.\"\n",
              "            style=\"display:none;\">\n",
              "\n",
              "  <svg xmlns=\"http://www.w3.org/2000/svg\" height=\"24px\" viewBox=\"0 -960 960 960\">\n",
              "    <path d=\"M120-120v-720h720v720H120Zm60-500h600v-160H180v160Zm220 220h160v-160H400v160Zm0 220h160v-160H400v160ZM180-400h160v-160H180v160Zm440 0h160v-160H620v160ZM180-180h160v-160H180v160Zm440 0h160v-160H620v160Z\"/>\n",
              "  </svg>\n",
              "    </button>\n",
              "\n",
              "  <style>\n",
              "    .colab-df-container {\n",
              "      display:flex;\n",
              "      gap: 12px;\n",
              "    }\n",
              "\n",
              "    .colab-df-convert {\n",
              "      background-color: #E8F0FE;\n",
              "      border: none;\n",
              "      border-radius: 50%;\n",
              "      cursor: pointer;\n",
              "      display: none;\n",
              "      fill: #1967D2;\n",
              "      height: 32px;\n",
              "      padding: 0 0 0 0;\n",
              "      width: 32px;\n",
              "    }\n",
              "\n",
              "    .colab-df-convert:hover {\n",
              "      background-color: #E2EBFA;\n",
              "      box-shadow: 0px 1px 2px rgba(60, 64, 67, 0.3), 0px 1px 3px 1px rgba(60, 64, 67, 0.15);\n",
              "      fill: #174EA6;\n",
              "    }\n",
              "\n",
              "    .colab-df-buttons div {\n",
              "      margin-bottom: 4px;\n",
              "    }\n",
              "\n",
              "    [theme=dark] .colab-df-convert {\n",
              "      background-color: #3B4455;\n",
              "      fill: #D2E3FC;\n",
              "    }\n",
              "\n",
              "    [theme=dark] .colab-df-convert:hover {\n",
              "      background-color: #434B5C;\n",
              "      box-shadow: 0px 1px 3px 1px rgba(0, 0, 0, 0.15);\n",
              "      filter: drop-shadow(0px 1px 2px rgba(0, 0, 0, 0.3));\n",
              "      fill: #FFFFFF;\n",
              "    }\n",
              "  </style>\n",
              "\n",
              "    <script>\n",
              "      const buttonEl =\n",
              "        document.querySelector('#df-0ae54635-48f0-41ef-a85b-5f3437fe7611 button.colab-df-convert');\n",
              "      buttonEl.style.display =\n",
              "        google.colab.kernel.accessAllowed ? 'block' : 'none';\n",
              "\n",
              "      async function convertToInteractive(key) {\n",
              "        const element = document.querySelector('#df-0ae54635-48f0-41ef-a85b-5f3437fe7611');\n",
              "        const dataTable =\n",
              "          await google.colab.kernel.invokeFunction('convertToInteractive',\n",
              "                                                    [key], {});\n",
              "        if (!dataTable) return;\n",
              "\n",
              "        const docLinkHtml = 'Like what you see? Visit the ' +\n",
              "          '<a target=\"_blank\" href=https://colab.research.google.com/notebooks/data_table.ipynb>data table notebook</a>'\n",
              "          + ' to learn more about interactive tables.';\n",
              "        element.innerHTML = '';\n",
              "        dataTable['output_type'] = 'display_data';\n",
              "        await google.colab.output.renderOutput(dataTable, element);\n",
              "        const docLink = document.createElement('div');\n",
              "        docLink.innerHTML = docLinkHtml;\n",
              "        element.appendChild(docLink);\n",
              "      }\n",
              "    </script>\n",
              "  </div>\n",
              "\n",
              "\n",
              "<div id=\"df-7185c6a3-4563-4a45-ae3d-6faeb0265bab\">\n",
              "  <button class=\"colab-df-quickchart\" onclick=\"quickchart('df-7185c6a3-4563-4a45-ae3d-6faeb0265bab')\"\n",
              "            title=\"Suggest charts\"\n",
              "            style=\"display:none;\">\n",
              "\n",
              "<svg xmlns=\"http://www.w3.org/2000/svg\" height=\"24px\"viewBox=\"0 0 24 24\"\n",
              "     width=\"24px\">\n",
              "    <g>\n",
              "        <path d=\"M19 3H5c-1.1 0-2 .9-2 2v14c0 1.1.9 2 2 2h14c1.1 0 2-.9 2-2V5c0-1.1-.9-2-2-2zM9 17H7v-7h2v7zm4 0h-2V7h2v10zm4 0h-2v-4h2v4z\"/>\n",
              "    </g>\n",
              "</svg>\n",
              "  </button>\n",
              "\n",
              "<style>\n",
              "  .colab-df-quickchart {\n",
              "      --bg-color: #E8F0FE;\n",
              "      --fill-color: #1967D2;\n",
              "      --hover-bg-color: #E2EBFA;\n",
              "      --hover-fill-color: #174EA6;\n",
              "      --disabled-fill-color: #AAA;\n",
              "      --disabled-bg-color: #DDD;\n",
              "  }\n",
              "\n",
              "  [theme=dark] .colab-df-quickchart {\n",
              "      --bg-color: #3B4455;\n",
              "      --fill-color: #D2E3FC;\n",
              "      --hover-bg-color: #434B5C;\n",
              "      --hover-fill-color: #FFFFFF;\n",
              "      --disabled-bg-color: #3B4455;\n",
              "      --disabled-fill-color: #666;\n",
              "  }\n",
              "\n",
              "  .colab-df-quickchart {\n",
              "    background-color: var(--bg-color);\n",
              "    border: none;\n",
              "    border-radius: 50%;\n",
              "    cursor: pointer;\n",
              "    display: none;\n",
              "    fill: var(--fill-color);\n",
              "    height: 32px;\n",
              "    padding: 0;\n",
              "    width: 32px;\n",
              "  }\n",
              "\n",
              "  .colab-df-quickchart:hover {\n",
              "    background-color: var(--hover-bg-color);\n",
              "    box-shadow: 0 1px 2px rgba(60, 64, 67, 0.3), 0 1px 3px 1px rgba(60, 64, 67, 0.15);\n",
              "    fill: var(--button-hover-fill-color);\n",
              "  }\n",
              "\n",
              "  .colab-df-quickchart-complete:disabled,\n",
              "  .colab-df-quickchart-complete:disabled:hover {\n",
              "    background-color: var(--disabled-bg-color);\n",
              "    fill: var(--disabled-fill-color);\n",
              "    box-shadow: none;\n",
              "  }\n",
              "\n",
              "  .colab-df-spinner {\n",
              "    border: 2px solid var(--fill-color);\n",
              "    border-color: transparent;\n",
              "    border-bottom-color: var(--fill-color);\n",
              "    animation:\n",
              "      spin 1s steps(1) infinite;\n",
              "  }\n",
              "\n",
              "  @keyframes spin {\n",
              "    0% {\n",
              "      border-color: transparent;\n",
              "      border-bottom-color: var(--fill-color);\n",
              "      border-left-color: var(--fill-color);\n",
              "    }\n",
              "    20% {\n",
              "      border-color: transparent;\n",
              "      border-left-color: var(--fill-color);\n",
              "      border-top-color: var(--fill-color);\n",
              "    }\n",
              "    30% {\n",
              "      border-color: transparent;\n",
              "      border-left-color: var(--fill-color);\n",
              "      border-top-color: var(--fill-color);\n",
              "      border-right-color: var(--fill-color);\n",
              "    }\n",
              "    40% {\n",
              "      border-color: transparent;\n",
              "      border-right-color: var(--fill-color);\n",
              "      border-top-color: var(--fill-color);\n",
              "    }\n",
              "    60% {\n",
              "      border-color: transparent;\n",
              "      border-right-color: var(--fill-color);\n",
              "    }\n",
              "    80% {\n",
              "      border-color: transparent;\n",
              "      border-right-color: var(--fill-color);\n",
              "      border-bottom-color: var(--fill-color);\n",
              "    }\n",
              "    90% {\n",
              "      border-color: transparent;\n",
              "      border-bottom-color: var(--fill-color);\n",
              "    }\n",
              "  }\n",
              "</style>\n",
              "\n",
              "  <script>\n",
              "    async function quickchart(key) {\n",
              "      const quickchartButtonEl =\n",
              "        document.querySelector('#' + key + ' button');\n",
              "      quickchartButtonEl.disabled = true;  // To prevent multiple clicks.\n",
              "      quickchartButtonEl.classList.add('colab-df-spinner');\n",
              "      try {\n",
              "        const charts = await google.colab.kernel.invokeFunction(\n",
              "            'suggestCharts', [key], {});\n",
              "      } catch (error) {\n",
              "        console.error('Error during call to suggestCharts:', error);\n",
              "      }\n",
              "      quickchartButtonEl.classList.remove('colab-df-spinner');\n",
              "      quickchartButtonEl.classList.add('colab-df-quickchart-complete');\n",
              "    }\n",
              "    (() => {\n",
              "      let quickchartButtonEl =\n",
              "        document.querySelector('#df-7185c6a3-4563-4a45-ae3d-6faeb0265bab button');\n",
              "      quickchartButtonEl.style.display =\n",
              "        google.colab.kernel.accessAllowed ? 'block' : 'none';\n",
              "    })();\n",
              "  </script>\n",
              "</div>\n",
              "\n",
              "    </div>\n",
              "  </div>\n"
            ],
            "application/vnd.google.colaboratory.intrinsic+json": {
              "type": "dataframe",
              "variable_name": "all_raw_data"
            }
          },
          "metadata": {},
          "execution_count": 7
        }
      ]
    },
    {
      "cell_type": "code",
      "source": [
        "# check the data count\n",
        "all_raw_data.info()"
      ],
      "metadata": {
        "colab": {
          "base_uri": "https://localhost:8080/"
        },
        "id": "dvhOqr-4NnnI",
        "outputId": "12d8a561-fd88-44e2-c0de-f171c02ef5d6"
      },
      "execution_count": 8,
      "outputs": [
        {
          "output_type": "stream",
          "name": "stdout",
          "text": [
            "<class 'pandas.core.frame.DataFrame'>\n",
            "RangeIndex: 50315 entries, 0 to 50314\n",
            "Data columns (total 25 columns):\n",
            " #   Column               Non-Null Count  Dtype  \n",
            "---  ------               --------------  -----  \n",
            " 0   development_name     50315 non-null  object \n",
            " 1   borough              50315 non-null  object \n",
            " 2   account_name         50315 non-null  object \n",
            " 3   location             49493 non-null  object \n",
            " 4   meter_amr            49804 non-null  object \n",
            " 5   tds                  50315 non-null  object \n",
            " 6   edp                  50315 non-null  int64  \n",
            " 7   rc_code              50315 non-null  object \n",
            " 8   funding_source       50237 non-null  object \n",
            " 9   amp                  50193 non-null  object \n",
            " 10  vendor_name          50315 non-null  object \n",
            " 11  umis_bill_id         50315 non-null  int64  \n",
            " 12  revenue_month        50315 non-null  object \n",
            " 13  service_start_date   50310 non-null  object \n",
            " 14  service_end_date     50310 non-null  object \n",
            " 15  days                 50310 non-null  float64\n",
            " 16  meter_number         50315 non-null  object \n",
            " 17  estimated            50315 non-null  object \n",
            " 18  current_charges      50315 non-null  float64\n",
            " 19  rate_class           50279 non-null  object \n",
            " 20  bill_analyzed        50315 non-null  object \n",
            " 21  consumption_hcf      50315 non-null  int64  \n",
            " 22  water_sewer_charges  50315 non-null  float64\n",
            " 23  other_charges        50315 non-null  float64\n",
            " 24  meter_scope          12757 non-null  object \n",
            "dtypes: float64(4), int64(3), object(18)\n",
            "memory usage: 9.6+ MB\n"
          ]
        }
      ]
    },
    {
      "cell_type": "code",
      "source": [
        "df_clean_data = all_raw_data.copy()"
      ],
      "metadata": {
        "id": "puKFwb5ztVFK"
      },
      "execution_count": 9,
      "outputs": []
    },
    {
      "cell_type": "code",
      "source": [
        "df_clean_data = df_clean_data.drop(columns=['meter_scope'])\n",
        "df_clean_data.info()"
      ],
      "metadata": {
        "id": "JfNwUSdON2p2",
        "colab": {
          "base_uri": "https://localhost:8080/"
        },
        "outputId": "6a559dde-1ea2-4400-ccf1-6f6428871235"
      },
      "execution_count": 10,
      "outputs": [
        {
          "output_type": "stream",
          "name": "stdout",
          "text": [
            "<class 'pandas.core.frame.DataFrame'>\n",
            "RangeIndex: 50315 entries, 0 to 50314\n",
            "Data columns (total 24 columns):\n",
            " #   Column               Non-Null Count  Dtype  \n",
            "---  ------               --------------  -----  \n",
            " 0   development_name     50315 non-null  object \n",
            " 1   borough              50315 non-null  object \n",
            " 2   account_name         50315 non-null  object \n",
            " 3   location             49493 non-null  object \n",
            " 4   meter_amr            49804 non-null  object \n",
            " 5   tds                  50315 non-null  object \n",
            " 6   edp                  50315 non-null  int64  \n",
            " 7   rc_code              50315 non-null  object \n",
            " 8   funding_source       50237 non-null  object \n",
            " 9   amp                  50193 non-null  object \n",
            " 10  vendor_name          50315 non-null  object \n",
            " 11  umis_bill_id         50315 non-null  int64  \n",
            " 12  revenue_month        50315 non-null  object \n",
            " 13  service_start_date   50310 non-null  object \n",
            " 14  service_end_date     50310 non-null  object \n",
            " 15  days                 50310 non-null  float64\n",
            " 16  meter_number         50315 non-null  object \n",
            " 17  estimated            50315 non-null  object \n",
            " 18  current_charges      50315 non-null  float64\n",
            " 19  rate_class           50279 non-null  object \n",
            " 20  bill_analyzed        50315 non-null  object \n",
            " 21  consumption_hcf      50315 non-null  int64  \n",
            " 22  water_sewer_charges  50315 non-null  float64\n",
            " 23  other_charges        50315 non-null  float64\n",
            "dtypes: float64(4), int64(3), object(17)\n",
            "memory usage: 9.2+ MB\n"
          ]
        }
      ]
    },
    {
      "cell_type": "code",
      "source": [
        "print(df_clean_data.shape)"
      ],
      "metadata": {
        "colab": {
          "base_uri": "https://localhost:8080/"
        },
        "id": "bMEfkFiYMBWx",
        "outputId": "f915872b-f8fa-4662-b238-87d8e843fdc5"
      },
      "execution_count": 11,
      "outputs": [
        {
          "output_type": "stream",
          "name": "stdout",
          "text": [
            "(50315, 24)\n"
          ]
        }
      ]
    },
    {
      "cell_type": "code",
      "source": [],
      "metadata": {
        "id": "A14urXqdMBZd"
      },
      "execution_count": null,
      "outputs": []
    },
    {
      "cell_type": "markdown",
      "source": [
        "### Upload Cleaned Dataframe to Azure"
      ],
      "metadata": {
        "id": "1BNvYWic96u9"
      }
    },
    {
      "cell_type": "code",
      "source": [
        "# Export DataFrame to CSV\n",
        "output = StringIO()\n",
        "df_clean_data.to_csv(output, index = False)\n",
        "data = output.getvalue()\n",
        "output.close()"
      ],
      "metadata": {
        "id": "RsnUgYsVMBcK"
      },
      "execution_count": 12,
      "outputs": []
    },
    {
      "cell_type": "code",
      "source": [
        "config_file_path = 'config/config.json'\n",
        "\n",
        "# Load the JSON configuration file\n",
        "with open(config_file_path, 'r') as config_file:\n",
        "    config = json.load(config_file)\n",
        "\n",
        "connection_string = config[\"connection_string\"]\n",
        "container_name = \"waterconsumption\"\n",
        "blob_name = \"WaterConsumption.csv\"\n",
        "\n",
        "azure_upload_blob(connection_string, container_name, blob_name, data)"
      ],
      "metadata": {
        "id": "W_wDsKAZSTTl",
        "colab": {
          "base_uri": "https://localhost:8080/"
        },
        "outputId": "a1ec6aff-ce7a-4224-f3a0-a4afc9f80dc1"
      },
      "execution_count": 13,
      "outputs": [
        {
          "output_type": "stream",
          "name": "stdout",
          "text": [
            "Uploaded to Azure Blob: WaterConsumption.csv\n"
          ]
        }
      ]
    },
    {
      "cell_type": "code",
      "source": [],
      "metadata": {
        "id": "asEIgB3Q9bxa"
      },
      "execution_count": null,
      "outputs": []
    },
    {
      "cell_type": "code",
      "source": [],
      "metadata": {
        "id": "xzDVDl1JjBzY"
      },
      "execution_count": null,
      "outputs": []
    },
    {
      "cell_type": "code",
      "source": [],
      "metadata": {
        "id": "OYZpW6s5jBwz"
      },
      "execution_count": null,
      "outputs": []
    }
  ]
}